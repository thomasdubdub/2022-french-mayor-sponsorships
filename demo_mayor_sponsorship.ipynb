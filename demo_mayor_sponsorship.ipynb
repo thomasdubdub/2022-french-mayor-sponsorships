{
 "cells": [
  {
   "cell_type": "markdown",
   "id": "ea576f5e-fa1f-450b-b57c-cc3cd3cecfd8",
   "metadata": {},
   "source": [
    "# Visualize sponsorships of mayors in metropolitan France for next presidential election (2022)"
   ]
  },
  {
   "cell_type": "code",
   "execution_count": 1,
   "id": "d4108317-c953-4892-912d-12d7dc882940",
   "metadata": {},
   "outputs": [],
   "source": [
    "%load_ext lab_black"
   ]
  },
  {
   "cell_type": "code",
   "execution_count": 2,
   "id": "0284ef22-8a3c-40d7-a23a-262b5b630be1",
   "metadata": {},
   "outputs": [],
   "source": [
    "from collections import defaultdict\n",
    "import pandas as pd\n",
    "import geopandas as gpd\n",
    "import matplotlib.pyplot as plt\n",
    "from matplotlib.patches import Patch"
   ]
  },
  {
   "cell_type": "markdown",
   "id": "91973fb4-7481-4532-8556-2389cfd9f030",
   "metadata": {},
   "source": [
    "#### Load sponsorship data from French open data portal here:\n",
    "#### https://www.data.gouv.fr/fr/datasets/parrainages-des-candidats-a-lelection-presidentielle-francaise-de-2022/"
   ]
  },
  {
   "cell_type": "code",
   "execution_count": 3,
   "id": "b9d48429-7093-43aa-9862-ee1317f27d64",
   "metadata": {},
   "outputs": [],
   "source": [
    "parrainages_url = (\n",
    "    \"https://www.data.gouv.fr/fr/datasets/r/bb9b4c36-8baa-4c93-b7e3-da987c5b599a\"\n",
    ")"
   ]
  },
  {
   "cell_type": "code",
   "execution_count": 4,
   "id": "0936f424-41b1-447f-851b-4e69e60b0093",
   "metadata": {},
   "outputs": [
    {
     "data": {
      "text/html": [
       "<div>\n",
       "<style scoped>\n",
       "    .dataframe tbody tr th:only-of-type {\n",
       "        vertical-align: middle;\n",
       "    }\n",
       "\n",
       "    .dataframe tbody tr th {\n",
       "        vertical-align: top;\n",
       "    }\n",
       "\n",
       "    .dataframe thead th {\n",
       "        text-align: right;\n",
       "    }\n",
       "</style>\n",
       "<table border=\"1\" class=\"dataframe\">\n",
       "  <thead>\n",
       "    <tr style=\"text-align: right;\">\n",
       "      <th></th>\n",
       "      <th>Civilité</th>\n",
       "      <th>Nom</th>\n",
       "      <th>Prénom</th>\n",
       "      <th>Mandat</th>\n",
       "      <th>Circonscription</th>\n",
       "      <th>Département</th>\n",
       "      <th>Candidat</th>\n",
       "      <th>Date de publication</th>\n",
       "    </tr>\n",
       "  </thead>\n",
       "  <tbody>\n",
       "    <tr>\n",
       "      <th>0</th>\n",
       "      <td>M.</td>\n",
       "      <td>CORDIVAL</td>\n",
       "      <td>Gilles</td>\n",
       "      <td>Maire</td>\n",
       "      <td>Mont-Saint-Père</td>\n",
       "      <td>Aisne</td>\n",
       "      <td>ARTHAUD Nathalie</td>\n",
       "      <td>01/02/2022</td>\n",
       "    </tr>\n",
       "    <tr>\n",
       "      <th>1</th>\n",
       "      <td>Mme</td>\n",
       "      <td>VALLIET</td>\n",
       "      <td>Odile</td>\n",
       "      <td>Maire</td>\n",
       "      <td>Crupilly</td>\n",
       "      <td>Aisne</td>\n",
       "      <td>ARTHAUD Nathalie</td>\n",
       "      <td>01/02/2022</td>\n",
       "    </tr>\n",
       "  </tbody>\n",
       "</table>\n",
       "</div>"
      ],
      "text/plain": [
       "  Civilité       Nom  Prénom Mandat  Circonscription Département  \\\n",
       "0       M.  CORDIVAL  Gilles  Maire  Mont-Saint-Père       Aisne   \n",
       "1      Mme   VALLIET   Odile  Maire         Crupilly       Aisne   \n",
       "\n",
       "           Candidat Date de publication  \n",
       "0  ARTHAUD Nathalie          01/02/2022  \n",
       "1  ARTHAUD Nathalie          01/02/2022  "
      ]
     },
     "execution_count": 4,
     "metadata": {},
     "output_type": "execute_result"
    }
   ],
   "source": [
    "p_df = pd.read_csv(parrainages_url, sep=\";\")\n",
    "p_df.head(2)"
   ]
  },
  {
   "cell_type": "code",
   "execution_count": 5,
   "id": "1fbb9a49-382d-49d9-8260-21a0a9b5e953",
   "metadata": {},
   "outputs": [
    {
     "name": "stdout",
     "output_type": "stream",
     "text": [
      "Nb of sponsorships: 5086\n"
     ]
    }
   ],
   "source": [
    "print(f\"Nb of sponsorships: {p_df.shape[0]}\")"
   ]
  },
  {
   "cell_type": "code",
   "execution_count": 6,
   "id": "84ff25bd-6e25-4d56-a0f3-b79f60b8c17f",
   "metadata": {},
   "outputs": [
    {
     "name": "stdout",
     "output_type": "stream",
     "text": [
      "Nb of sponsorships by mayors: 3270\n"
     ]
    }
   ],
   "source": [
    "m_df = p_df.query('Mandat == \"Maire\"')\n",
    "print(f\"Nb of sponsorships by mayors: {m_df.shape[0]}\")"
   ]
  },
  {
   "cell_type": "markdown",
   "id": "1faf83e6-d4f5-44f8-99bd-1f47c935c8a0",
   "metadata": {},
   "source": [
    "#### Top sponsorships"
   ]
  },
  {
   "cell_type": "code",
   "execution_count": 7,
   "id": "40a6229c-1e6d-4daf-a5e0-c3edb3b7ace2",
   "metadata": {},
   "outputs": [
    {
     "data": {
      "text/plain": [
       "MACRON Emmanuel          505\n",
       "PÉCRESSE Valérie         480\n",
       "ARTHAUD Nathalie         340\n",
       "LASSALLE Jean            310\n",
       "HIDALGO Anne             291\n",
       "DUPONT-AIGNAN Nicolas    225\n",
       "ROUSSEL Fabien           203\n",
       "MÉLENCHON Jean-Luc       175\n",
       "ZEMMOUR Éric             139\n",
       "ASSELINEAU François      134\n",
       "Name: Candidat, dtype: int64"
      ]
     },
     "execution_count": 7,
     "metadata": {},
     "output_type": "execute_result"
    }
   ],
   "source": [
    "m_df[\"Candidat\"].value_counts().nlargest(10)"
   ]
  },
  {
   "cell_type": "code",
   "execution_count": 8,
   "id": "abd2d32c-4880-484b-bc1d-cdac1c8a1a2b",
   "metadata": {},
   "outputs": [
    {
     "name": "stdout",
     "output_type": "stream",
     "text": [
      "18 candidates with more than 10 (mayor) sponsorships\n"
     ]
    }
   ],
   "source": [
    "above_ten = list(\n",
    "    m_df[\"Candidat\"].value_counts()[m_df[\"Candidat\"].value_counts() > 10].index\n",
    ")\n",
    "print(f\"{len(above_ten)} candidates with more than 10 (mayor) sponsorships\")"
   ]
  },
  {
   "cell_type": "code",
   "execution_count": 9,
   "id": "1eb6945d-7653-49ea-b69f-d4d989e97883",
   "metadata": {},
   "outputs": [
    {
     "data": {
      "text/plain": [
       "(3237, 8)"
      ]
     },
     "execution_count": 9,
     "metadata": {},
     "output_type": "execute_result"
    }
   ],
   "source": [
    "m_f_df = m_df.query(\"Candidat in @above_ten\")\n",
    "m_f_df.shape"
   ]
  },
  {
   "cell_type": "code",
   "execution_count": 10,
   "id": "968b31b4-f605-4b18-9dcf-8fddf7f86079",
   "metadata": {},
   "outputs": [
    {
     "data": {
      "text/plain": [
       "3212"
      ]
     },
     "execution_count": 10,
     "metadata": {},
     "output_type": "execute_result"
    }
   ],
   "source": [
    "len(list(m_f_df[\"Circonscription\"].unique()))"
   ]
  },
  {
   "cell_type": "markdown",
   "id": "aa4f9400-8932-46b6-a118-13d533daaf45",
   "metadata": {},
   "source": [
    "#### Load info on department from the French open data portal here:\n",
    "#### https://www.data.gouv.fr/fr/datasets/departements-de-france/"
   ]
  },
  {
   "cell_type": "code",
   "execution_count": 11,
   "id": "dfcd9c3d-b6fd-4b9c-af84-256331dd2e46",
   "metadata": {},
   "outputs": [],
   "source": [
    "dep_url = \"https://www.data.gouv.fr/fr/datasets/r/70cef74f-70b1-495a-8500-c089229c0254\""
   ]
  },
  {
   "cell_type": "code",
   "execution_count": 12,
   "id": "051ad46b-0e27-4cd4-89dd-5ec8d2eec79a",
   "metadata": {},
   "outputs": [
    {
     "name": "stdout",
     "output_type": "stream",
     "text": [
      "101\n"
     ]
    }
   ],
   "source": [
    "dep_df = pd.read_csv(dep_url, sep=\",\")\n",
    "nom_to_code = dict(zip(dep_df.nom_departement, dep_df.code_departement))\n",
    "print(len(nom_to_code))"
   ]
  },
  {
   "cell_type": "markdown",
   "id": "14145f72-2bb3-4fbe-8605-1ba9d753a3e9",
   "metadata": {},
   "source": [
    "#### Load city data from OSM open data here:\n",
    "#### https://www.data.gouv.fr/fr/datasets/decoupage-administratif-communal-francais-issu-d-openstreetmap/"
   ]
  },
  {
   "cell_type": "code",
   "execution_count": 13,
   "id": "ad9faa45-74da-4daa-bd7d-a4f2beb1554a",
   "metadata": {},
   "outputs": [],
   "source": [
    "osm_fp = \"communes-20220101-shp/communes-20220101.shp\""
   ]
  },
  {
   "cell_type": "code",
   "execution_count": 14,
   "id": "5a96bdad-e3dc-45ce-aab1-9e89124c8d8a",
   "metadata": {},
   "outputs": [
    {
     "data": {
      "text/html": [
       "<div>\n",
       "<style scoped>\n",
       "    .dataframe tbody tr th:only-of-type {\n",
       "        vertical-align: middle;\n",
       "    }\n",
       "\n",
       "    .dataframe tbody tr th {\n",
       "        vertical-align: top;\n",
       "    }\n",
       "\n",
       "    .dataframe thead th {\n",
       "        text-align: right;\n",
       "    }\n",
       "</style>\n",
       "<table border=\"1\" class=\"dataframe\">\n",
       "  <thead>\n",
       "    <tr style=\"text-align: right;\">\n",
       "      <th></th>\n",
       "      <th>insee</th>\n",
       "      <th>nom</th>\n",
       "      <th>wikipedia</th>\n",
       "      <th>surf_ha</th>\n",
       "      <th>geometry</th>\n",
       "    </tr>\n",
       "  </thead>\n",
       "  <tbody>\n",
       "    <tr>\n",
       "      <th>0</th>\n",
       "      <td>2B222</td>\n",
       "      <td>Pie-d'Orezza</td>\n",
       "      <td>fr:Pie-d'Orezza</td>\n",
       "      <td>573.0</td>\n",
       "      <td>POLYGON ((9.32017 42.38507, 9.32028 42.38510, ...</td>\n",
       "    </tr>\n",
       "    <tr>\n",
       "      <th>1</th>\n",
       "      <td>2B137</td>\n",
       "      <td>Lano</td>\n",
       "      <td>fr:Lano</td>\n",
       "      <td>824.0</td>\n",
       "      <td>POLYGON ((9.20010 42.39013, 9.20014 42.39014, ...</td>\n",
       "    </tr>\n",
       "  </tbody>\n",
       "</table>\n",
       "</div>"
      ],
      "text/plain": [
       "   insee           nom        wikipedia  surf_ha  \\\n",
       "0  2B222  Pie-d'Orezza  fr:Pie-d'Orezza    573.0   \n",
       "1  2B137          Lano          fr:Lano    824.0   \n",
       "\n",
       "                                            geometry  \n",
       "0  POLYGON ((9.32017 42.38507, 9.32028 42.38510, ...  \n",
       "1  POLYGON ((9.20010 42.39013, 9.20014 42.39014, ...  "
      ]
     },
     "execution_count": 14,
     "metadata": {},
     "output_type": "execute_result"
    }
   ],
   "source": [
    "com_gdf = gpd.read_file(osm_fp)\n",
    "com_gdf.head(2)"
   ]
  },
  {
   "cell_type": "code",
   "execution_count": 15,
   "id": "18fe6f44-311b-4f9c-9666-7cf60d208aa2",
   "metadata": {},
   "outputs": [],
   "source": [
    "#### Metropolitan France\n",
    "outre_deps = [\"971\", \"972\", \"973\", \"974\", \"976\"]\n",
    "metro_com_gdf = com_gdf.query(\"insee.str.slice(0,3) not in @outre_deps\")"
   ]
  },
  {
   "cell_type": "markdown",
   "id": "20c0442f-b679-4edd-9b8d-11580b812e6a",
   "metadata": {},
   "source": [
    "#### Patch difference of names in files"
   ]
  },
  {
   "cell_type": "code",
   "execution_count": 16,
   "id": "34b13d7f-75d0-46cc-a91d-d9856bcdda51",
   "metadata": {},
   "outputs": [
    {
     "data": {
      "text/plain": [
       "['Les Hauts-Talican', 'Le Haut Soultzbach']"
      ]
     },
     "execution_count": 16,
     "metadata": {},
     "output_type": "execute_result"
    }
   ],
   "source": [
    "# Problems of names\n",
    "[\n",
    "    l\n",
    "    for l in list(m_f_df[\"Circonscription\"].unique())\n",
    "    if l not in list(com_gdf[\"nom\"].unique())\n",
    "]"
   ]
  },
  {
   "cell_type": "code",
   "execution_count": 17,
   "id": "9b5265da-b7cd-4f52-99fa-aca7c30ad24b",
   "metadata": {},
   "outputs": [
    {
     "name": "stdout",
     "output_type": "stream",
     "text": [
      "0\n"
     ]
    }
   ],
   "source": [
    "# Patch\n",
    "mfp_df = m_f_df.copy()\n",
    "mfp_df.loc[\n",
    "    mfp_df.Circonscription == \"Les Hauts-Talican\", \"Circonscription\"\n",
    "] = \"Les Hauts Talican\"\n",
    "mfp_df.loc[\n",
    "    mfp_df.Circonscription == \"Le Haut Soultzbach\", \"Circonscription\"\n",
    "] = \"Le Haut-Soultzbach\"\n",
    "print(\n",
    "    len(\n",
    "        [\n",
    "            l\n",
    "            for l in list(mfp_df[\"Circonscription\"].unique())\n",
    "            if l not in list(com_gdf[\"nom\"].unique())\n",
    "        ]\n",
    "    )\n",
    ")"
   ]
  },
  {
   "cell_type": "markdown",
   "id": "f28ca686-dc01-4aa6-8fe7-f9d37f48c916",
   "metadata": {},
   "source": [
    "#### Get sponsor from code of department and name of city (several French cities have the same name...)"
   ]
  },
  {
   "cell_type": "code",
   "execution_count": 18,
   "id": "dccce2dc-c29a-4630-96a6-5133f698cacd",
   "metadata": {},
   "outputs": [
    {
     "data": {
      "text/plain": [
       "'LASSALLE Jean'"
      ]
     },
     "execution_count": 18,
     "metadata": {},
     "output_type": "execute_result"
    }
   ],
   "source": [
    "code_city_sponsor = defaultdict(lambda: defaultdict(str))\n",
    "for index, row in mfp_df.iterrows():\n",
    "    code = nom_to_code[row[\"Département\"]]\n",
    "    code_city_sponsor[code][row[\"Circonscription\"]] = row[\"Candidat\"]\n",
    "# test\n",
    "code_city_sponsor[\"31\"][\"Antignac\"]"
   ]
  },
  {
   "cell_type": "code",
   "execution_count": 19,
   "id": "52318fb4-a0e2-408c-928f-df5d81406381",
   "metadata": {},
   "outputs": [],
   "source": [
    "gdf = metro_com_gdf.copy()\n",
    "gdf[\"candidat\"] = gdf.apply(\n",
    "    lambda x: code_city_sponsor[str(x.insee)[:2]][x.nom], axis=1\n",
    ")"
   ]
  },
  {
   "cell_type": "markdown",
   "id": "ffa56384-6b49-4ef1-bd8c-c7a20fe27854",
   "metadata": {},
   "source": [
    "#### Plot cities with color of selected candidate (by mayor)"
   ]
  },
  {
   "cell_type": "code",
   "execution_count": 20,
   "id": "4cdb261e-6a42-4ebd-96f6-40ae6d1784ce",
   "metadata": {},
   "outputs": [],
   "source": [
    "candidats = {\n",
    "    \"MACRON Emmanuel\": \"darkorange\",\n",
    "    \"PÉCRESSE Valérie\": \"blue\",\n",
    "    \"ARTHAUD Nathalie\": \"firebrick\",\n",
    "    \"LASSALLE Jean\": \"gold\",\n",
    "    \"HIDALGO Anne\": \"fuchsia\",\n",
    "    \"DUPONT-AIGNAN Nicolas\": \"cyan\",\n",
    "    \"ROUSSEL Fabien\": \"red\",\n",
    "    \"MÉLENCHON Jean-Luc\": \"darkviolet\",\n",
    "    \"ZEMMOUR Éric\": \"black\",\n",
    "    \"ASSELINEAU François\": \"darkcyan\",\n",
    "    \"POUTOU Philippe\": \"crimson\",\n",
    "    \"JADOT Yannick\": \"green\",\n",
    "    \"KAZIB Anasse\": \"indianred\",\n",
    "    \"THOUY Hélène\": \"olive\",\n",
    "    \"LE PEN Marine\": \"darkblue\",\n",
    "    \"KUZMANOVIC Georges\": \"plum\",\n",
    "    \"KOENIG Gaspard\": \"bisque\",\n",
    "    \"TAUBIRA Christiane\": \"violet\",\n",
    "}"
   ]
  },
  {
   "cell_type": "code",
   "execution_count": null,
   "id": "5700167a-8411-4e09-9a14-6f6f94f4dfea",
   "metadata": {},
   "outputs": [],
   "source": [
    "f, ax = plt.subplots(figsize=(18, 18))\n",
    "pmarks = []\n",
    "gdf.query(\"candidat == ''\").plot(\n",
    "    ax=ax,\n",
    "    color=\"white\",\n",
    "    edgecolor=\"gray\",\n",
    "    linewidth=0.07,\n",
    ")\n",
    "for candidate, color in candidats.items():\n",
    "    gdf.query(\"candidat == @candidate\").plot(\n",
    "        ax=ax,\n",
    "        color=color,\n",
    "        categorical=True,\n",
    "        legend=True,\n",
    "        edgecolor=\"gray\",\n",
    "        linewidth=0.07,\n",
    "    )\n",
    "    pmarks.append(Patch(facecolor=color, label=candidate))\n",
    "\n",
    "handles, _ = ax.get_legend_handles_labels()\n",
    "ax.legend(handles=[*handles, *pmarks], loc=\"best\", fontsize=9)\n",
    "ax.set_title(\"France 2022 : parrainage des maires\", fontsize=25)\n",
    "ax.set_axis_off()\n",
    "plt.savefig(\"france-sponsors.png\", dpi=50, bbox_inches=\"tight\")"
   ]
  },
  {
   "cell_type": "code",
   "execution_count": null,
   "id": "fbf2cf14-b7c1-43a8-835b-e3fa652cdfda",
   "metadata": {},
   "outputs": [],
   "source": []
  }
 ],
 "metadata": {
  "kernelspec": {
   "display_name": "Python 3 (ipykernel)",
   "language": "python",
   "name": "python3"
  },
  "language_info": {
   "codemirror_mode": {
    "name": "ipython",
    "version": 3
   },
   "file_extension": ".py",
   "mimetype": "text/x-python",
   "name": "python",
   "nbconvert_exporter": "python",
   "pygments_lexer": "ipython3",
   "version": "3.9.4"
  }
 },
 "nbformat": 4,
 "nbformat_minor": 5
}
